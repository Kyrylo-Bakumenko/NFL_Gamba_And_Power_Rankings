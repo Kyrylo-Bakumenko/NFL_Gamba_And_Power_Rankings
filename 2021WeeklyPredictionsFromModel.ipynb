{
  "nbformat": 4,
  "nbformat_minor": 0,
  "metadata": {
    "colab": {
      "name": "2021WeeklyPredictionsFromModel.ipynb",
      "provenance": [],
      "authorship_tag": "ABX9TyMIJ1dTwJ6sJPoORsD+ZrVN",
      "include_colab_link": true
    },
    "kernelspec": {
      "name": "python3",
      "display_name": "Python 3"
    },
    "language_info": {
      "name": "python"
    }
  },
  "cells": [
    {
      "cell_type": "markdown",
      "metadata": {
        "id": "view-in-github",
        "colab_type": "text"
      },
      "source": [
        "<a href=\"https://colab.research.google.com/github/Kyrylo-Bakumenko/NFL_Gamba_And_Power_Rankings/blob/main/2021WeeklyPredictionsFromModel.ipynb\" target=\"_parent\"><img src=\"https://colab.research.google.com/assets/colab-badge.svg\" alt=\"Open In Colab\"/></a>"
      ]
    },
    {
      "cell_type": "code",
      "metadata": {
        "colab": {
          "base_uri": "https://localhost:8080/"
        },
        "id": "oY_IKjFmBYOz",
        "cellView": "form",
        "outputId": "0708bbfb-99da-445d-b569-a59bb8a4284e"
      },
      "source": [
        "#@title Imports and Settings\n",
        "import pandas as pd\n",
        "import numpy as np\n",
        "import matplotlib.pyplot as plt\n",
        "import pickle\n",
        "import time\n",
        "from tqdm import tqdm\n",
        "from numba import jit, njit\n",
        "from numba import prange\n",
        "from scipy.stats import invgauss\n",
        "%pylab inline\n",
        "\n",
        "# mount google drive\n",
        "from google.colab import drive\n",
        "drive.mount('/content/drive/')\n",
        "\n",
        "# quality of life\n",
        "pd.set_option('display.float_format', lambda x: '%.5f' % x)"
      ],
      "execution_count": 53,
      "outputs": [
        {
          "output_type": "stream",
          "name": "stdout",
          "text": [
            "Populating the interactive namespace from numpy and matplotlib\n",
            "Drive already mounted at /content/drive/; to attempt to forcibly remount, call drive.mount(\"/content/drive/\", force_remount=True).\n"
          ]
        }
      ]
    },
    {
      "cell_type": "code",
      "metadata": {
        "id": "SkwpTKAlB58U"
      },
      "source": [
        "#@title User made functions\n",
        "\n",
        "# return probability left wins in accordance to elo system\n",
        "@njit\n",
        "def win_prob(player_elo, opponent_elo):\n",
        "  return 1/(1+10**((-player_elo+opponent_elo)/400))\n",
        "\n",
        "# return new elo for player\n",
        "def elo_change(player_elo, opponent_elo, result, DELTA=1):\n",
        "  player_win_prob = win_prob(player_elo, opponent_elo)\n",
        "  return player_elo + (MAX_GAIN*DELTA) * (result-player_win_prob)\n",
        "\n",
        "# generates list of season names\n",
        "def get_season_names(start, end, step=1):\n",
        "    seasons = [\"Reference\"]\n",
        "    while start+step < end:\n",
        "      start+=step\n",
        "      seasons.append(\"'\"+str(start)[-2:])\n",
        "    seasons.append(\"'\"+str(end)[-2:])\n",
        "    return seasons\n",
        "\n",
        "  ### Web scraping method\n",
        "\n",
        "def scraped_season_list(START_YEAR, END_YEAR):\n",
        "  seasons = []\n",
        "  for year in range(START_YEAR, END_YEAR):\n",
        "    try:\n",
        "      df = pd.read_html(URL_BASE + str(year) + URL_END, header=0)[0]\n",
        "      df.drop(columns=['Day', 'Week', 'Time', 'Unnamed: 5', 'Unnamed: 7', 'YdsW', 'TOW', 'YdsL', 'TOL'], inplace=True)\n",
        "      df['Date'] = pd.to_datetime(df['Date'], errors='coerce')\n",
        "      df.dropna(inplace=True)\n",
        "      df.set_index('Date', inplace=True)\n",
        "      seasons.append(df)\n",
        "    except:\n",
        "      print(f'Failed at year: {year}')\n",
        "      break\n",
        "  return seasons\n",
        "\n",
        "### Deprecated file method\n",
        "def create_season_list_by_years(START_YEAR, END_YEAR):\n",
        "  seasons = []\n",
        "  for i in range(START_YEAR, END_YEAR):\n",
        "    try:\n",
        "      seasons.append(pd.read_excel(\"/content/NFL_Season_Data.xlsx\", sheet_name=str(i), header=0, usecols=\"B:F\", index_col=0))\n",
        "    except:\n",
        "      break\n",
        "  return seasons\n",
        "###\n",
        "\n",
        "def list_rename_dropna(seasons):\n",
        "  for cur_season in seasons:\n",
        "    # rename because we will check for draws\n",
        "    cur_season.rename(columns={\"Winner/tie\": \"Left\", \"Loser/tie\": \"Right\"}, inplace=True)\n",
        "    # remove nan's (artifacts from website)\n",
        "    cur_season.dropna(inplace=True)\n",
        "    # bridge name changes by using consistent abbreviations\n",
        "    cur_season[\"Left\"]=cur_season[\"Left\"].map(name_to_abbr).values\n",
        "    cur_season[\"Right\"]=cur_season[\"Right\"].map(name_to_abbr).values\n",
        "  return seasons\n",
        "\n",
        "def bet_prop_simple(bookies_odds, our_odds):\n",
        "  return 2*(invgauss.cdf(min(our_odds/bookies_odds, 3), mu=30)-0.5)\n",
        "\n",
        "def add_simulated_odds(Elo, game_bets):\n",
        "  game_bets[\"Our Odds\"] = 0\n",
        "  for i in range(1, len(game_bets), 2): # every game in game_bets\n",
        "    # find team in Elo, add our simulated odds\n",
        "    #   0      1        2         3\n",
        "    # Team    ML  Bookies Odds Our Odds\n",
        "    team_a = game_bets.iloc[i-1, 0]\n",
        "    team_b = game_bets.iloc[i, 0]\n",
        "    # odds a wins according to elo model\n",
        "    a_win_prob = win_prob(Elo[team_a], Elo[team_b])\n",
        "    # odds b wins according to elo model\n",
        "    b_win_prob = 1-a_win_prob\n",
        "    # add to table\n",
        "    game_bets.iloc[i-1, 3] = a_win_prob\n",
        "    game_bets.iloc[i, 3] = b_win_prob\n",
        "\n",
        "\n",
        "def add_recommended_wagers(game_bets):\n",
        "  bet_size = 1\n",
        "  method_profit = 0\n",
        "  game_bets['Wager'] = 0\n",
        "  # ...   0      1         2          3         4\n",
        "  # ... Team    ML   Bookies Odds  Our Odds   Wager\n",
        "  for game_num in range(len(game_bets)):\n",
        "    BO = game_bets.iloc[game_num, 2] # money line implied odds\n",
        "    OO = game_bets.iloc[game_num, 3] # our odds\n",
        "    if OO > BO: # we have calculated an edge\n",
        "      bet = bet_size*bet_prop_simple(BO, OO) # bet amount\n",
        "      game_bets.iloc[game_num, 4] = bet # add bet to table"
      ],
      "execution_count": 54,
      "outputs": []
    },
    {
      "cell_type": "code",
      "metadata": {
        "id": "DgpM_RFTCHU0",
        "colab": {
          "base_uri": "https://localhost:8080/",
          "height": 206
        },
        "outputId": "ffaeba7e-79bd-433f-b843-d805a34646b0"
      },
      "source": [
        "#@title Import and Manage target season odds and games\n",
        "# import moneyline betting data for 2020-21 season\n",
        "url = \"/content/drive/My Drive/NFL_Analysis_Data/NFL_Odds_2021-22.xlsx\"\n",
        "\n",
        "game_bets = pd.read_excel(url, sheet_name=\"Week1\", header=0,\n",
        "                          usecols=\"B, C\")#, index_col=0)\n",
        "\n",
        "# convert ML into effective odds bookies are estimating\n",
        "game_bets[\"Bookies Odds\"] = 0\n",
        "\n",
        "game_bets.head(50)\n",
        "\n",
        "for row in range(game_bets[\"ML\"].size):\n",
        "  ML = game_bets[\"ML\"][row]\n",
        "  if ML > 0: # positive - underdog\n",
        "    game_bets.iloc[row, 2] = 100/(ML+100)\n",
        "  else: # negative - favorite\n",
        "    game_bets.iloc[row, 2] = abs(ML)/(abs(ML)+100)\n",
        "\n",
        "game_bets.head(5)"
      ],
      "execution_count": 55,
      "outputs": [
        {
          "output_type": "execute_result",
          "data": {
            "text/html": [
              "<div>\n",
              "<style scoped>\n",
              "    .dataframe tbody tr th:only-of-type {\n",
              "        vertical-align: middle;\n",
              "    }\n",
              "\n",
              "    .dataframe tbody tr th {\n",
              "        vertical-align: top;\n",
              "    }\n",
              "\n",
              "    .dataframe thead th {\n",
              "        text-align: right;\n",
              "    }\n",
              "</style>\n",
              "<table border=\"1\" class=\"dataframe\">\n",
              "  <thead>\n",
              "    <tr style=\"text-align: right;\">\n",
              "      <th></th>\n",
              "      <th>Team</th>\n",
              "      <th>ML</th>\n",
              "      <th>Bookies Odds</th>\n",
              "    </tr>\n",
              "  </thead>\n",
              "  <tbody>\n",
              "    <tr>\n",
              "      <th>0</th>\n",
              "      <td>DAL</td>\n",
              "      <td>325</td>\n",
              "      <td>0.23529</td>\n",
              "    </tr>\n",
              "    <tr>\n",
              "      <th>1</th>\n",
              "      <td>TB</td>\n",
              "      <td>-425</td>\n",
              "      <td>0.80952</td>\n",
              "    </tr>\n",
              "    <tr>\n",
              "      <th>2</th>\n",
              "      <td>JAX</td>\n",
              "      <td>-180</td>\n",
              "      <td>0.64286</td>\n",
              "    </tr>\n",
              "    <tr>\n",
              "      <th>3</th>\n",
              "      <td>HOU</td>\n",
              "      <td>150</td>\n",
              "      <td>0.40000</td>\n",
              "    </tr>\n",
              "    <tr>\n",
              "      <th>4</th>\n",
              "      <td>PIT</td>\n",
              "      <td>235</td>\n",
              "      <td>0.29851</td>\n",
              "    </tr>\n",
              "  </tbody>\n",
              "</table>\n",
              "</div>"
            ],
            "text/plain": [
              "  Team   ML  Bookies Odds\n",
              "0  DAL  325       0.23529\n",
              "1   TB -425       0.80952\n",
              "2  JAX -180       0.64286\n",
              "3  HOU  150       0.40000\n",
              "4  PIT  235       0.29851"
            ]
          },
          "metadata": {},
          "execution_count": 55
        }
      ]
    },
    {
      "cell_type": "code",
      "metadata": {
        "id": "C-dyTMMYZfJP"
      },
      "source": [
        "Elo = pickle.load(open(\"elo.p\", \"rb\" ))\n",
        "add_simulated_odds(Elo, game_bets)\n",
        "add_recommended_wagers(game_bets)"
      ],
      "execution_count": 56,
      "outputs": []
    },
    {
      "cell_type": "code",
      "metadata": {
        "id": "o06gSsdxM3iD"
      },
      "source": [
        ""
      ],
      "execution_count": 57,
      "outputs": []
    }
  ]
}